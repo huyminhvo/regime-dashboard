{
 "cells": [
  {
   "cell_type": "markdown",
   "id": "a34b5bac",
   "metadata": {},
   "source": [
    "\n",
    "# 📈 Regime Analysis Demo (Tesla)\n",
    "\n",
    "This notebook demonstrates the `RegimeAnalyzer` toolkit by classifying Tesla's market regimes based on rolling volatility, visualizing them, and comparing per-regime performance metrics.\n"
   ]
  },
  {
   "cell_type": "markdown",
   "id": "87ef62d3",
   "metadata": {},
   "source": [
    "\n",
    "## 1️⃣ Download Historical Data\n",
    "\n",
    "We'll use daily closing prices for TSLA from 2015–2025.\n"
   ]
  },
  {
   "cell_type": "code",
   "execution_count": null,
   "id": "b2ef9beb",
   "metadata": {},
   "outputs": [],
   "source": [
    "\n",
    "import yfinance as yf\n",
    "import pandas as pd\n",
    "import matplotlib.pyplot as plt\n",
    "from regime.regime_analyzer import RegimeAnalyzer\n",
    "\n",
    "plt.style.use(\"seaborn-v0_8-darkgrid\")\n",
    "\n",
    "# Download TSLA data\n",
    "df = yf.download(\"TSLA\", start=\"2015-01-01\", end=\"2025-01-01\")\n",
    "df.head()\n"
   ]
  },
  {
   "cell_type": "markdown",
   "id": "1493d505",
   "metadata": {},
   "source": [
    "\n",
    "## 2️⃣ Initialize Regime Analyzer\n",
    "\n",
    "We compute 20-day rolling volatility, label regimes using quantile thresholds (Low / Mid / High), and create a combined DataFrame.\n"
   ]
  },
  {
   "cell_type": "code",
   "execution_count": null,
   "id": "cd50258e",
   "metadata": {},
   "outputs": [],
   "source": [
    "\n",
    "an = RegimeAnalyzer(df[\"Close\"], log=True)\n",
    "\n",
    "an.compute_volatility(window=20)\n",
    "an.label_regimes(method=\"quantile\", q=0.33)\n",
    "\n",
    "data = an.to_dataframe()\n",
    "data.tail()\n"
   ]
  },
  {
   "cell_type": "markdown",
   "id": "ef5dbba4",
   "metadata": {},
   "source": [
    "\n",
    "## 3️⃣ Price with Regime Overlays\n",
    "\n",
    "Each shaded area indicates a distinct volatility regime.\n"
   ]
  },
  {
   "cell_type": "code",
   "execution_count": null,
   "id": "aafd2f59",
   "metadata": {},
   "outputs": [],
   "source": [
    "an.plot_regimes()"
   ]
  },
  {
   "cell_type": "markdown",
   "id": "09a5b6d2",
   "metadata": {},
   "source": [
    "\n",
    "## 4️⃣ Per-Regime Performance Metrics\n",
    "\n",
    "The table below summarizes daily and annualized statistics by regime: Sharpe, Sortino, CAGR, Calmar, and more.\n"
   ]
  },
  {
   "cell_type": "code",
   "execution_count": null,
   "id": "996ab344",
   "metadata": {},
   "outputs": [],
   "source": [
    "\n",
    "summary = an.compute_summary()\n",
    "summary.round(4)\n"
   ]
  },
  {
   "cell_type": "markdown",
   "id": "7022264b",
   "metadata": {},
   "source": [
    "\n",
    "## 5️⃣ Strategy vs. Benchmark\n",
    "\n",
    "A simple rule: *hold only during Low-Vol regimes*.  \n",
    "We compare its equity curve to a Buy-and-Hold benchmark.\n"
   ]
  },
  {
   "cell_type": "code",
   "execution_count": null,
   "id": "8e83d9e6",
   "metadata": {},
   "outputs": [],
   "source": [
    "\n",
    "equity_df, stats_df = an.compare_to_benchmark()\n",
    "stats_df.round(3)\n"
   ]
  },
  {
   "cell_type": "markdown",
   "id": "327da995",
   "metadata": {},
   "source": [
    "\n",
    "## 6️⃣ Equity Curves by Regime\n",
    "\n",
    "Each curve shows how $1 grows when invested **only** during that regime.\n"
   ]
  },
  {
   "cell_type": "code",
   "execution_count": null,
   "id": "a9df49b4",
   "metadata": {},
   "outputs": [],
   "source": [
    "eq_df = an.plot_equity_by_regime()"
   ]
  },
  {
   "cell_type": "markdown",
   "id": "89d5be34",
   "metadata": {},
   "source": [
    "\n",
    "## 7️⃣ Regime Switch Diagnostics\n",
    "\n",
    "Quick sanity check; track number of regime switches and average regime duration.\n"
   ]
  },
  {
   "cell_type": "code",
   "execution_count": null,
   "id": "032ab82f",
   "metadata": {},
   "outputs": [],
   "source": [
    "\n",
    "switch_stats = an.regime_switch_stats()\n",
    "switch_stats\n"
   ]
  }
 ],
 "metadata": {
  "kernelspec": {
   "display_name": "venv",
   "language": "python",
   "name": "python3"
  },
  "language_info": {
   "name": "python",
   "version": "3.12.5"
  }
 },
 "nbformat": 4,
 "nbformat_minor": 5
}
